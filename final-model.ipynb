{
 "cells": [
  {
   "cell_type": "markdown",
   "metadata": {},
   "source": [
    "## Load admissions table"
   ]
  },
  {
   "cell_type": "code",
   "execution_count": 1,
   "metadata": {
    "ExecuteTime": {
     "end_time": "2020-05-03T06:24:14.707521Z",
     "start_time": "2020-05-03T06:24:12.000690Z"
    }
   },
   "outputs": [],
   "source": [
    "import pandas as pd\n",
    "import numpy as np\n",
    "import matplotlib.pyplot as plt\n",
    "import pickle\n",
    "import string\n",
    "from nltk import word_tokenize\n",
    "from sklearn.feature_extraction.text import CountVectorizer"
   ]
  },
  {
   "cell_type": "code",
   "execution_count": 2,
   "metadata": {
    "ExecuteTime": {
     "end_time": "2020-05-03T06:24:16.389495Z",
     "start_time": "2020-05-03T06:24:14.726492Z"
    }
   },
   "outputs": [],
   "source": [
    "path = 'cleaned_data/'\n",
    "df_train = pd.read_csv(path + 'df_train.csv', header=0, sep=',', quotechar='\"')\n",
    "df_valid = pd.read_csv(path + 'df_valid.csv', header=0, sep=',', quotechar='\"')\n",
    "df_test = pd.read_csv(path + 'df_test.csv', header=0, sep=',', quotechar='\"')"
   ]
  },
  {
   "cell_type": "code",
   "execution_count": 3,
   "metadata": {
    "ExecuteTime": {
     "end_time": "2020-05-03T06:24:16.489786Z",
     "start_time": "2020-05-03T06:24:16.484685Z"
    }
   },
   "outputs": [],
   "source": [
    "def tokenizer_better(text):\n",
    "    # tokenize the text by replacing punctuation and numbers with spaces and lowercase all words\n",
    "    \n",
    "    punc_list = string.punctuation+'0123456789'\n",
    "    t = str.maketrans(dict.fromkeys(punc_list, \" \"))\n",
    "    text = text.lower().translate(t)\n",
    "    tokens = word_tokenize(text)\n",
    "    return tokens\n",
    "\n",
    "my_new_stop_words = ['the','and','to','of','was','with','a','on','in','for','name',\n",
    "                 'is','patient','s','he','at','as','or','one','she','his','her','am',\n",
    "                 'were','you','pt','pm','by','be','had','your','this','date',\n",
    "                'from','there','an','that','p','are','have','has','h','but','o',\n",
    "                'namepattern','which','every','also','should','if','it','been','who','during', 'd', 'c', 'f']"
   ]
  },
  {
   "cell_type": "code",
   "execution_count": 4,
   "metadata": {
    "ExecuteTime": {
     "end_time": "2020-05-03T06:25:54.968353Z",
     "start_time": "2020-05-03T06:24:16.577634Z"
    }
   },
   "outputs": [],
   "source": [
    "\n",
    "vect = CountVectorizer(lowercase = True, max_features = 2000, tokenizer = tokenizer_better,stop_words =my_new_stop_words)\n",
    "#\n",
    "# This could take a while\n",
    "vect.fit(df_train.TEXT.values)\n",
    "\n",
    "X_train_tf = vect.transform(df_train.TEXT.values)\n",
    "X_valid_tf = vect.transform(df_valid.TEXT.values)\n",
    "y_train = df_train.OUTPUT_LABEL\n",
    "y_valid = df_valid.OUTPUT_LABEL"
   ]
  },
  {
   "cell_type": "code",
   "execution_count": 5,
   "metadata": {
    "ExecuteTime": {
     "end_time": "2020-05-03T06:26:40.345354Z",
     "start_time": "2020-05-03T06:25:55.145184Z"
    }
   },
   "outputs": [],
   "source": [
    "X_test_tf = vect.transform(df_test.TEXT.values)\n",
    "y_test = df_test.OUTPUT_LABEL"
   ]
  },
  {
   "cell_type": "markdown",
   "metadata": {},
   "source": [
    "# Step 3: Build a model"
   ]
  },
  {
   "cell_type": "markdown",
   "metadata": {},
   "source": [
    "## Xgboost"
   ]
  },
  {
   "cell_type": "code",
   "execution_count": 6,
   "metadata": {
    "ExecuteTime": {
     "end_time": "2020-05-03T06:26:40.589954Z",
     "start_time": "2020-05-03T06:26:40.556759Z"
    }
   },
   "outputs": [],
   "source": [
    "import os\n",
    "os.environ['KMP_DUPLICATE_LIB_OK']='True'\n",
    "import xgboost as xgb\n",
    "from xgboost import plot_importance\n",
    "from sklearn.metrics import mean_squared_error\n",
    "from xgboost.sklearn import XGBClassifier\n",
    "from sklearn import metrics"
   ]
  },
  {
   "cell_type": "code",
   "execution_count": 12,
   "metadata": {
    "ExecuteTime": {
     "end_time": "2020-05-03T06:30:34.790185Z",
     "start_time": "2020-05-03T06:30:34.785434Z"
    }
   },
   "outputs": [],
   "source": [
    "clf = XGBClassifier(\n",
    "silent=0 ,#设置成1则没有运行信息输出，最好是设置为0.是否在运行升级时打印消息。\n",
    "booster = 'gbtree',\n",
    "eta = 0.05,\n",
    "objective = 'binary:logistic',\n",
    "nthread = 4,\n",
    "colsample_bytree= 0.5326780859210172, \n",
    "gamma= 0.6499055536075732, \n",
    "max_delta_step= 9.67653592799797, \n",
    "max_depth= 5, \n",
    "min_child_weight= 19.419063672362732, \n",
    "reg_lambda= 0.9730525337026057, \n",
    "subsample= 0.9198065096810114,\n",
    "n_estimators=1000, #树的个数\n",
    "seed=1000 #随机种子\n",
    ")"
   ]
  },
  {
   "cell_type": "code",
   "execution_count": 13,
   "metadata": {
    "ExecuteTime": {
     "end_time": "2020-05-03T06:30:45.049267Z",
     "start_time": "2020-05-03T06:30:35.227792Z"
    },
    "scrolled": true
   },
   "outputs": [
    {
     "name": "stdout",
     "output_type": "stream",
     "text": [
      "[01:30:36] src/tree/updater_prune.cc:74: tree pruning end, 1 roots, 34 extra nodes, 2 pruned nodes, max_depth=5\n",
      "[0]\tvalidation_0-auc:0.700197\tvalidation_1-auc:0.637803\n",
      "Multiple eval metrics have been passed: 'validation_1-auc' will be used for early stopping.\n",
      "\n",
      "Will train until validation_1-auc hasn't improved in 100 rounds.\n",
      "[01:30:36] src/tree/updater_prune.cc:74: tree pruning end, 1 roots, 34 extra nodes, 0 pruned nodes, max_depth=5\n",
      "[1]\tvalidation_0-auc:0.730688\tvalidation_1-auc:0.668423\n",
      "[01:30:36] src/tree/updater_prune.cc:74: tree pruning end, 1 roots, 30 extra nodes, 0 pruned nodes, max_depth=5\n",
      "[2]\tvalidation_0-auc:0.745031\tvalidation_1-auc:0.677531\n",
      "[01:30:36] src/tree/updater_prune.cc:74: tree pruning end, 1 roots, 32 extra nodes, 0 pruned nodes, max_depth=5\n",
      "[3]\tvalidation_0-auc:0.754674\tvalidation_1-auc:0.687462\n",
      "[01:30:37] src/tree/updater_prune.cc:74: tree pruning end, 1 roots, 42 extra nodes, 0 pruned nodes, max_depth=5\n",
      "[4]\tvalidation_0-auc:0.758813\tvalidation_1-auc:0.68916\n",
      "[01:30:37] src/tree/updater_prune.cc:74: tree pruning end, 1 roots, 38 extra nodes, 0 pruned nodes, max_depth=5\n",
      "[5]\tvalidation_0-auc:0.76552\tvalidation_1-auc:0.691439\n",
      "[01:30:37] src/tree/updater_prune.cc:74: tree pruning end, 1 roots, 32 extra nodes, 0 pruned nodes, max_depth=5\n",
      "[6]\tvalidation_0-auc:0.768426\tvalidation_1-auc:0.692693\n",
      "[01:30:37] src/tree/updater_prune.cc:74: tree pruning end, 1 roots, 34 extra nodes, 0 pruned nodes, max_depth=5\n",
      "[7]\tvalidation_0-auc:0.771316\tvalidation_1-auc:0.692345\n",
      "[01:30:37] src/tree/updater_prune.cc:74: tree pruning end, 1 roots, 28 extra nodes, 0 pruned nodes, max_depth=5\n",
      "[8]\tvalidation_0-auc:0.776064\tvalidation_1-auc:0.695032\n",
      "[01:30:37] src/tree/updater_prune.cc:74: tree pruning end, 1 roots, 24 extra nodes, 0 pruned nodes, max_depth=5\n",
      "[9]\tvalidation_0-auc:0.780008\tvalidation_1-auc:0.696931\n",
      "[01:30:37] src/tree/updater_prune.cc:74: tree pruning end, 1 roots, 38 extra nodes, 0 pruned nodes, max_depth=5\n",
      "[10]\tvalidation_0-auc:0.787604\tvalidation_1-auc:0.698366\n",
      "[01:30:37] src/tree/updater_prune.cc:74: tree pruning end, 1 roots, 26 extra nodes, 0 pruned nodes, max_depth=5\n",
      "[11]\tvalidation_0-auc:0.790663\tvalidation_1-auc:0.698453\n",
      "[01:30:37] src/tree/updater_prune.cc:74: tree pruning end, 1 roots, 24 extra nodes, 0 pruned nodes, max_depth=5\n",
      "[12]\tvalidation_0-auc:0.793191\tvalidation_1-auc:0.699281\n",
      "[01:30:37] src/tree/updater_prune.cc:74: tree pruning end, 1 roots, 24 extra nodes, 0 pruned nodes, max_depth=5\n",
      "[13]\tvalidation_0-auc:0.796685\tvalidation_1-auc:0.702085\n",
      "[01:30:37] src/tree/updater_prune.cc:74: tree pruning end, 1 roots, 30 extra nodes, 0 pruned nodes, max_depth=5\n",
      "[14]\tvalidation_0-auc:0.800928\tvalidation_1-auc:0.70383\n",
      "[01:30:37] src/tree/updater_prune.cc:74: tree pruning end, 1 roots, 24 extra nodes, 0 pruned nodes, max_depth=5\n",
      "[15]\tvalidation_0-auc:0.804364\tvalidation_1-auc:0.708164\n",
      "[01:30:37] src/tree/updater_prune.cc:74: tree pruning end, 1 roots, 26 extra nodes, 0 pruned nodes, max_depth=5\n",
      "[16]\tvalidation_0-auc:0.806916\tvalidation_1-auc:0.711415\n",
      "[01:30:37] src/tree/updater_prune.cc:74: tree pruning end, 1 roots, 30 extra nodes, 0 pruned nodes, max_depth=5\n",
      "[17]\tvalidation_0-auc:0.810697\tvalidation_1-auc:0.711619\n",
      "[01:30:37] src/tree/updater_prune.cc:74: tree pruning end, 1 roots, 28 extra nodes, 0 pruned nodes, max_depth=5\n",
      "[18]\tvalidation_0-auc:0.815894\tvalidation_1-auc:0.711082\n",
      "[01:30:37] src/tree/updater_prune.cc:74: tree pruning end, 1 roots, 40 extra nodes, 0 pruned nodes, max_depth=5\n",
      "[19]\tvalidation_0-auc:0.820214\tvalidation_1-auc:0.712172\n",
      "[01:30:37] src/tree/updater_prune.cc:74: tree pruning end, 1 roots, 14 extra nodes, 0 pruned nodes, max_depth=5\n",
      "[20]\tvalidation_0-auc:0.822427\tvalidation_1-auc:0.714518\n",
      "[01:30:37] src/tree/updater_prune.cc:74: tree pruning end, 1 roots, 20 extra nodes, 0 pruned nodes, max_depth=5\n",
      "[21]\tvalidation_0-auc:0.825791\tvalidation_1-auc:0.715446\n",
      "[01:30:37] src/tree/updater_prune.cc:74: tree pruning end, 1 roots, 20 extra nodes, 0 pruned nodes, max_depth=5\n",
      "[22]\tvalidation_0-auc:0.827954\tvalidation_1-auc:0.716635\n",
      "[01:30:37] src/tree/updater_prune.cc:74: tree pruning end, 1 roots, 30 extra nodes, 0 pruned nodes, max_depth=5\n",
      "[23]\tvalidation_0-auc:0.831265\tvalidation_1-auc:0.716166\n",
      "[01:30:38] src/tree/updater_prune.cc:74: tree pruning end, 1 roots, 22 extra nodes, 0 pruned nodes, max_depth=5\n",
      "[24]\tvalidation_0-auc:0.833376\tvalidation_1-auc:0.716591\n",
      "[01:30:38] src/tree/updater_prune.cc:74: tree pruning end, 1 roots, 32 extra nodes, 0 pruned nodes, max_depth=5\n",
      "[25]\tvalidation_0-auc:0.835967\tvalidation_1-auc:0.717086\n",
      "[01:30:38] src/tree/updater_prune.cc:74: tree pruning end, 1 roots, 28 extra nodes, 0 pruned nodes, max_depth=5\n",
      "[26]\tvalidation_0-auc:0.838697\tvalidation_1-auc:0.715922\n",
      "[01:30:38] src/tree/updater_prune.cc:74: tree pruning end, 1 roots, 24 extra nodes, 0 pruned nodes, max_depth=5\n",
      "[27]\tvalidation_0-auc:0.841598\tvalidation_1-auc:0.715064\n",
      "[01:30:38] src/tree/updater_prune.cc:74: tree pruning end, 1 roots, 22 extra nodes, 0 pruned nodes, max_depth=5\n",
      "[28]\tvalidation_0-auc:0.842157\tvalidation_1-auc:0.715931\n",
      "[01:30:38] src/tree/updater_prune.cc:74: tree pruning end, 1 roots, 22 extra nodes, 0 pruned nodes, max_depth=5\n",
      "[29]\tvalidation_0-auc:0.844162\tvalidation_1-auc:0.717165\n",
      "[01:30:38] src/tree/updater_prune.cc:74: tree pruning end, 1 roots, 24 extra nodes, 0 pruned nodes, max_depth=5\n",
      "[30]\tvalidation_0-auc:0.846859\tvalidation_1-auc:0.716616\n",
      "[01:30:38] src/tree/updater_prune.cc:74: tree pruning end, 1 roots, 18 extra nodes, 0 pruned nodes, max_depth=5\n",
      "[31]\tvalidation_0-auc:0.848122\tvalidation_1-auc:0.716811\n",
      "[01:30:38] src/tree/updater_prune.cc:74: tree pruning end, 1 roots, 20 extra nodes, 0 pruned nodes, max_depth=5\n",
      "[32]\tvalidation_0-auc:0.850877\tvalidation_1-auc:0.717611\n",
      "[01:30:38] src/tree/updater_prune.cc:74: tree pruning end, 1 roots, 26 extra nodes, 0 pruned nodes, max_depth=5\n",
      "[33]\tvalidation_0-auc:0.854055\tvalidation_1-auc:0.718678\n",
      "[01:30:38] src/tree/updater_prune.cc:74: tree pruning end, 1 roots, 16 extra nodes, 0 pruned nodes, max_depth=5\n",
      "[34]\tvalidation_0-auc:0.855497\tvalidation_1-auc:0.718463\n",
      "[01:30:38] src/tree/updater_prune.cc:74: tree pruning end, 1 roots, 14 extra nodes, 0 pruned nodes, max_depth=5\n",
      "[35]\tvalidation_0-auc:0.856408\tvalidation_1-auc:0.718383\n",
      "[01:30:38] src/tree/updater_prune.cc:74: tree pruning end, 1 roots, 24 extra nodes, 0 pruned nodes, max_depth=5\n",
      "[36]\tvalidation_0-auc:0.859691\tvalidation_1-auc:0.719358\n",
      "[01:30:38] src/tree/updater_prune.cc:74: tree pruning end, 1 roots, 18 extra nodes, 0 pruned nodes, max_depth=5\n",
      "[37]\tvalidation_0-auc:0.861429\tvalidation_1-auc:0.719169\n",
      "[01:30:38] src/tree/updater_prune.cc:74: tree pruning end, 1 roots, 26 extra nodes, 0 pruned nodes, max_depth=5\n",
      "[38]\tvalidation_0-auc:0.863721\tvalidation_1-auc:0.720101\n",
      "[01:30:38] src/tree/updater_prune.cc:74: tree pruning end, 1 roots, 16 extra nodes, 0 pruned nodes, max_depth=5\n",
      "[39]\tvalidation_0-auc:0.864759\tvalidation_1-auc:0.719966\n",
      "[01:30:38] src/tree/updater_prune.cc:74: tree pruning end, 1 roots, 20 extra nodes, 0 pruned nodes, max_depth=5\n",
      "[40]\tvalidation_0-auc:0.86575\tvalidation_1-auc:0.720629\n",
      "[01:30:38] src/tree/updater_prune.cc:74: tree pruning end, 1 roots, 12 extra nodes, 0 pruned nodes, max_depth=5\n",
      "[41]\tvalidation_0-auc:0.866136\tvalidation_1-auc:0.721195\n",
      "[01:30:38] src/tree/updater_prune.cc:74: tree pruning end, 1 roots, 22 extra nodes, 0 pruned nodes, max_depth=5\n",
      "[42]\tvalidation_0-auc:0.86797\tvalidation_1-auc:0.720096\n",
      "[01:30:39] src/tree/updater_prune.cc:74: tree pruning end, 1 roots, 18 extra nodes, 0 pruned nodes, max_depth=5\n",
      "[43]\tvalidation_0-auc:0.868361\tvalidation_1-auc:0.71949\n",
      "[01:30:39] src/tree/updater_prune.cc:74: tree pruning end, 1 roots, 36 extra nodes, 0 pruned nodes, max_depth=5\n",
      "[44]\tvalidation_0-auc:0.871785\tvalidation_1-auc:0.720171\n",
      "[01:30:39] src/tree/updater_prune.cc:74: tree pruning end, 1 roots, 26 extra nodes, 0 pruned nodes, max_depth=5\n",
      "[45]\tvalidation_0-auc:0.874584\tvalidation_1-auc:0.720132\n",
      "[01:30:39] src/tree/updater_prune.cc:74: tree pruning end, 1 roots, 22 extra nodes, 0 pruned nodes, max_depth=5\n",
      "[46]\tvalidation_0-auc:0.876517\tvalidation_1-auc:0.720546\n",
      "[01:30:39] src/tree/updater_prune.cc:74: tree pruning end, 1 roots, 14 extra nodes, 0 pruned nodes, max_depth=5\n",
      "[47]\tvalidation_0-auc:0.876506\tvalidation_1-auc:0.721078\n"
     ]
    },
    {
     "name": "stdout",
     "output_type": "stream",
     "text": [
      "[01:30:39] src/tree/updater_prune.cc:74: tree pruning end, 1 roots, 12 extra nodes, 0 pruned nodes, max_depth=5\n",
      "[48]\tvalidation_0-auc:0.877664\tvalidation_1-auc:0.721794\n",
      "[01:30:39] src/tree/updater_prune.cc:74: tree pruning end, 1 roots, 18 extra nodes, 0 pruned nodes, max_depth=5\n",
      "[49]\tvalidation_0-auc:0.878733\tvalidation_1-auc:0.722597\n",
      "[01:30:39] src/tree/updater_prune.cc:74: tree pruning end, 1 roots, 20 extra nodes, 0 pruned nodes, max_depth=5\n",
      "[50]\tvalidation_0-auc:0.880338\tvalidation_1-auc:0.723591\n",
      "[01:30:39] src/tree/updater_prune.cc:74: tree pruning end, 1 roots, 18 extra nodes, 0 pruned nodes, max_depth=5\n",
      "[51]\tvalidation_0-auc:0.88097\tvalidation_1-auc:0.723856\n",
      "[01:30:39] src/tree/updater_prune.cc:74: tree pruning end, 1 roots, 26 extra nodes, 0 pruned nodes, max_depth=5\n",
      "[52]\tvalidation_0-auc:0.883268\tvalidation_1-auc:0.723495\n",
      "[01:30:39] src/tree/updater_prune.cc:74: tree pruning end, 1 roots, 16 extra nodes, 0 pruned nodes, max_depth=5\n",
      "[53]\tvalidation_0-auc:0.884544\tvalidation_1-auc:0.72352\n",
      "[01:30:39] src/tree/updater_prune.cc:74: tree pruning end, 1 roots, 16 extra nodes, 0 pruned nodes, max_depth=5\n",
      "[54]\tvalidation_0-auc:0.886067\tvalidation_1-auc:0.723552\n",
      "[01:30:39] src/tree/updater_prune.cc:74: tree pruning end, 1 roots, 24 extra nodes, 0 pruned nodes, max_depth=5\n",
      "[55]\tvalidation_0-auc:0.887909\tvalidation_1-auc:0.724612\n",
      "[01:30:39] src/tree/updater_prune.cc:74: tree pruning end, 1 roots, 28 extra nodes, 0 pruned nodes, max_depth=5\n",
      "[56]\tvalidation_0-auc:0.889795\tvalidation_1-auc:0.724267\n",
      "[01:30:39] src/tree/updater_prune.cc:74: tree pruning end, 1 roots, 34 extra nodes, 0 pruned nodes, max_depth=5\n",
      "[57]\tvalidation_0-auc:0.892455\tvalidation_1-auc:0.724568\n",
      "[01:30:39] src/tree/updater_prune.cc:74: tree pruning end, 1 roots, 20 extra nodes, 0 pruned nodes, max_depth=5\n",
      "[58]\tvalidation_0-auc:0.894006\tvalidation_1-auc:0.724952\n",
      "[01:30:39] src/tree/updater_prune.cc:74: tree pruning end, 1 roots, 22 extra nodes, 0 pruned nodes, max_depth=5\n",
      "[59]\tvalidation_0-auc:0.89586\tvalidation_1-auc:0.72487\n",
      "[01:30:39] src/tree/updater_prune.cc:74: tree pruning end, 1 roots, 16 extra nodes, 0 pruned nodes, max_depth=5\n",
      "[60]\tvalidation_0-auc:0.896767\tvalidation_1-auc:0.723824\n",
      "[01:30:39] src/tree/updater_prune.cc:74: tree pruning end, 1 roots, 18 extra nodes, 0 pruned nodes, max_depth=5\n",
      "[61]\tvalidation_0-auc:0.898369\tvalidation_1-auc:0.723643\n",
      "[01:30:40] src/tree/updater_prune.cc:74: tree pruning end, 1 roots, 18 extra nodes, 0 pruned nodes, max_depth=5\n",
      "[62]\tvalidation_0-auc:0.899352\tvalidation_1-auc:0.724215\n",
      "[01:30:40] src/tree/updater_prune.cc:74: tree pruning end, 1 roots, 24 extra nodes, 0 pruned nodes, max_depth=5\n",
      "[63]\tvalidation_0-auc:0.900721\tvalidation_1-auc:0.72418\n",
      "[01:30:40] src/tree/updater_prune.cc:74: tree pruning end, 1 roots, 22 extra nodes, 0 pruned nodes, max_depth=5\n",
      "[64]\tvalidation_0-auc:0.901911\tvalidation_1-auc:0.724159\n",
      "[01:30:40] src/tree/updater_prune.cc:74: tree pruning end, 1 roots, 22 extra nodes, 0 pruned nodes, max_depth=5\n",
      "[65]\tvalidation_0-auc:0.903924\tvalidation_1-auc:0.724076\n",
      "[01:30:40] src/tree/updater_prune.cc:74: tree pruning end, 1 roots, 22 extra nodes, 0 pruned nodes, max_depth=5\n",
      "[66]\tvalidation_0-auc:0.905823\tvalidation_1-auc:0.724449\n",
      "[01:30:40] src/tree/updater_prune.cc:74: tree pruning end, 1 roots, 20 extra nodes, 0 pruned nodes, max_depth=5\n",
      "[67]\tvalidation_0-auc:0.906906\tvalidation_1-auc:0.724764\n",
      "[01:30:40] src/tree/updater_prune.cc:74: tree pruning end, 1 roots, 20 extra nodes, 0 pruned nodes, max_depth=5\n",
      "[68]\tvalidation_0-auc:0.907793\tvalidation_1-auc:0.724731\n",
      "[01:30:40] src/tree/updater_prune.cc:74: tree pruning end, 1 roots, 10 extra nodes, 0 pruned nodes, max_depth=5\n",
      "[69]\tvalidation_0-auc:0.908375\tvalidation_1-auc:0.724255\n",
      "[01:30:40] src/tree/updater_prune.cc:74: tree pruning end, 1 roots, 18 extra nodes, 0 pruned nodes, max_depth=5\n",
      "[70]\tvalidation_0-auc:0.90943\tvalidation_1-auc:0.723445\n",
      "[01:30:40] src/tree/updater_prune.cc:74: tree pruning end, 1 roots, 28 extra nodes, 0 pruned nodes, max_depth=5\n",
      "[71]\tvalidation_0-auc:0.911402\tvalidation_1-auc:0.723683\n",
      "[01:30:40] src/tree/updater_prune.cc:74: tree pruning end, 1 roots, 18 extra nodes, 0 pruned nodes, max_depth=5\n",
      "[72]\tvalidation_0-auc:0.91287\tvalidation_1-auc:0.723841\n",
      "[01:30:40] src/tree/updater_prune.cc:74: tree pruning end, 1 roots, 32 extra nodes, 0 pruned nodes, max_depth=5\n",
      "[73]\tvalidation_0-auc:0.914868\tvalidation_1-auc:0.724019\n",
      "[01:30:40] src/tree/updater_prune.cc:74: tree pruning end, 1 roots, 26 extra nodes, 0 pruned nodes, max_depth=5\n",
      "[74]\tvalidation_0-auc:0.916178\tvalidation_1-auc:0.724069\n",
      "[01:30:40] src/tree/updater_prune.cc:74: tree pruning end, 1 roots, 24 extra nodes, 0 pruned nodes, max_depth=5\n",
      "[75]\tvalidation_0-auc:0.9178\tvalidation_1-auc:0.723579\n",
      "[01:30:40] src/tree/updater_prune.cc:74: tree pruning end, 1 roots, 22 extra nodes, 0 pruned nodes, max_depth=5\n",
      "[76]\tvalidation_0-auc:0.919485\tvalidation_1-auc:0.724256\n",
      "[01:30:40] src/tree/updater_prune.cc:74: tree pruning end, 1 roots, 20 extra nodes, 0 pruned nodes, max_depth=5\n",
      "[77]\tvalidation_0-auc:0.920172\tvalidation_1-auc:0.723841\n",
      "[01:30:40] src/tree/updater_prune.cc:74: tree pruning end, 1 roots, 22 extra nodes, 0 pruned nodes, max_depth=5\n",
      "[78]\tvalidation_0-auc:0.921517\tvalidation_1-auc:0.723678\n",
      "[01:30:40] src/tree/updater_prune.cc:74: tree pruning end, 1 roots, 20 extra nodes, 0 pruned nodes, max_depth=5\n",
      "[79]\tvalidation_0-auc:0.922331\tvalidation_1-auc:0.72337\n",
      "[01:30:40] src/tree/updater_prune.cc:74: tree pruning end, 1 roots, 16 extra nodes, 0 pruned nodes, max_depth=5\n",
      "[80]\tvalidation_0-auc:0.922945\tvalidation_1-auc:0.723822\n",
      "[01:30:40] src/tree/updater_prune.cc:74: tree pruning end, 1 roots, 36 extra nodes, 0 pruned nodes, max_depth=5\n",
      "[81]\tvalidation_0-auc:0.925095\tvalidation_1-auc:0.723662\n",
      "[01:30:41] src/tree/updater_prune.cc:74: tree pruning end, 1 roots, 14 extra nodes, 0 pruned nodes, max_depth=5\n",
      "[82]\tvalidation_0-auc:0.925695\tvalidation_1-auc:0.723271\n",
      "[01:30:41] src/tree/updater_prune.cc:74: tree pruning end, 1 roots, 20 extra nodes, 0 pruned nodes, max_depth=5\n",
      "[83]\tvalidation_0-auc:0.926225\tvalidation_1-auc:0.723931\n",
      "[01:30:41] src/tree/updater_prune.cc:74: tree pruning end, 1 roots, 14 extra nodes, 0 pruned nodes, max_depth=5\n",
      "[84]\tvalidation_0-auc:0.927166\tvalidation_1-auc:0.723425\n",
      "[01:30:41] src/tree/updater_prune.cc:74: tree pruning end, 1 roots, 26 extra nodes, 0 pruned nodes, max_depth=5\n",
      "[85]\tvalidation_0-auc:0.928253\tvalidation_1-auc:0.723495\n",
      "[01:30:41] src/tree/updater_prune.cc:74: tree pruning end, 1 roots, 30 extra nodes, 0 pruned nodes, max_depth=5\n",
      "[86]\tvalidation_0-auc:0.930047\tvalidation_1-auc:0.723665\n",
      "[01:30:41] src/tree/updater_prune.cc:74: tree pruning end, 1 roots, 14 extra nodes, 0 pruned nodes, max_depth=5\n",
      "[87]\tvalidation_0-auc:0.930459\tvalidation_1-auc:0.723845\n",
      "[01:30:41] src/tree/updater_prune.cc:74: tree pruning end, 1 roots, 18 extra nodes, 0 pruned nodes, max_depth=5\n",
      "[88]\tvalidation_0-auc:0.931099\tvalidation_1-auc:0.723156\n",
      "[01:30:41] src/tree/updater_prune.cc:74: tree pruning end, 1 roots, 22 extra nodes, 0 pruned nodes, max_depth=5\n",
      "[89]\tvalidation_0-auc:0.93174\tvalidation_1-auc:0.72249\n",
      "[01:30:41] src/tree/updater_prune.cc:74: tree pruning end, 1 roots, 16 extra nodes, 0 pruned nodes, max_depth=5\n",
      "[90]\tvalidation_0-auc:0.932087\tvalidation_1-auc:0.722145\n",
      "[01:30:41] src/tree/updater_prune.cc:74: tree pruning end, 1 roots, 30 extra nodes, 0 pruned nodes, max_depth=5\n",
      "[91]\tvalidation_0-auc:0.933459\tvalidation_1-auc:0.722015\n",
      "[01:30:41] src/tree/updater_prune.cc:74: tree pruning end, 1 roots, 16 extra nodes, 0 pruned nodes, max_depth=5\n",
      "[92]\tvalidation_0-auc:0.933669\tvalidation_1-auc:0.721959\n",
      "[01:30:41] src/tree/updater_prune.cc:74: tree pruning end, 1 roots, 24 extra nodes, 0 pruned nodes, max_depth=5\n",
      "[93]\tvalidation_0-auc:0.934595\tvalidation_1-auc:0.72133\n",
      "[01:30:41] src/tree/updater_prune.cc:74: tree pruning end, 1 roots, 22 extra nodes, 0 pruned nodes, max_depth=5\n",
      "[94]\tvalidation_0-auc:0.935917\tvalidation_1-auc:0.721086\n",
      "[01:30:41] src/tree/updater_prune.cc:74: tree pruning end, 1 roots, 22 extra nodes, 0 pruned nodes, max_depth=5\n",
      "[95]\tvalidation_0-auc:0.936766\tvalidation_1-auc:0.720628\n",
      "[01:30:41] src/tree/updater_prune.cc:74: tree pruning end, 1 roots, 28 extra nodes, 0 pruned nodes, max_depth=5\n",
      "[96]\tvalidation_0-auc:0.938095\tvalidation_1-auc:0.720131\n"
     ]
    },
    {
     "name": "stdout",
     "output_type": "stream",
     "text": [
      "[01:30:41] src/tree/updater_prune.cc:74: tree pruning end, 1 roots, 28 extra nodes, 0 pruned nodes, max_depth=5\n",
      "[97]\tvalidation_0-auc:0.938922\tvalidation_1-auc:0.719537\n",
      "[01:30:41] src/tree/updater_prune.cc:74: tree pruning end, 1 roots, 22 extra nodes, 0 pruned nodes, max_depth=5\n",
      "[98]\tvalidation_0-auc:0.939624\tvalidation_1-auc:0.7195\n",
      "[01:30:41] src/tree/updater_prune.cc:74: tree pruning end, 1 roots, 20 extra nodes, 0 pruned nodes, max_depth=5\n",
      "[99]\tvalidation_0-auc:0.940287\tvalidation_1-auc:0.7189\n",
      "[01:30:41] src/tree/updater_prune.cc:74: tree pruning end, 1 roots, 18 extra nodes, 0 pruned nodes, max_depth=5\n",
      "[100]\tvalidation_0-auc:0.941104\tvalidation_1-auc:0.718896\n",
      "[01:30:42] src/tree/updater_prune.cc:74: tree pruning end, 1 roots, 20 extra nodes, 0 pruned nodes, max_depth=5\n",
      "[101]\tvalidation_0-auc:0.941504\tvalidation_1-auc:0.719179\n",
      "[01:30:42] src/tree/updater_prune.cc:74: tree pruning end, 1 roots, 18 extra nodes, 0 pruned nodes, max_depth=5\n",
      "[102]\tvalidation_0-auc:0.942234\tvalidation_1-auc:0.71913\n",
      "[01:30:42] src/tree/updater_prune.cc:74: tree pruning end, 1 roots, 16 extra nodes, 0 pruned nodes, max_depth=5\n",
      "[103]\tvalidation_0-auc:0.942645\tvalidation_1-auc:0.718841\n",
      "[01:30:42] src/tree/updater_prune.cc:74: tree pruning end, 1 roots, 12 extra nodes, 0 pruned nodes, max_depth=5\n",
      "[104]\tvalidation_0-auc:0.943294\tvalidation_1-auc:0.718439\n",
      "[01:30:42] src/tree/updater_prune.cc:74: tree pruning end, 1 roots, 16 extra nodes, 0 pruned nodes, max_depth=5\n",
      "[105]\tvalidation_0-auc:0.943541\tvalidation_1-auc:0.718224\n",
      "[01:30:42] src/tree/updater_prune.cc:74: tree pruning end, 1 roots, 22 extra nodes, 0 pruned nodes, max_depth=5\n",
      "[106]\tvalidation_0-auc:0.944246\tvalidation_1-auc:0.717759\n",
      "[01:30:42] src/tree/updater_prune.cc:74: tree pruning end, 1 roots, 18 extra nodes, 0 pruned nodes, max_depth=5\n",
      "[107]\tvalidation_0-auc:0.944902\tvalidation_1-auc:0.717611\n",
      "[01:30:42] src/tree/updater_prune.cc:74: tree pruning end, 1 roots, 26 extra nodes, 0 pruned nodes, max_depth=5\n",
      "[108]\tvalidation_0-auc:0.945748\tvalidation_1-auc:0.717721\n",
      "[01:30:42] src/tree/updater_prune.cc:74: tree pruning end, 1 roots, 24 extra nodes, 0 pruned nodes, max_depth=5\n",
      "[109]\tvalidation_0-auc:0.946257\tvalidation_1-auc:0.717699\n",
      "[01:30:42] src/tree/updater_prune.cc:74: tree pruning end, 1 roots, 20 extra nodes, 0 pruned nodes, max_depth=5\n",
      "[110]\tvalidation_0-auc:0.947145\tvalidation_1-auc:0.717403\n",
      "[01:30:42] src/tree/updater_prune.cc:74: tree pruning end, 1 roots, 14 extra nodes, 0 pruned nodes, max_depth=5\n",
      "[111]\tvalidation_0-auc:0.947445\tvalidation_1-auc:0.717984\n",
      "[01:30:42] src/tree/updater_prune.cc:74: tree pruning end, 1 roots, 20 extra nodes, 0 pruned nodes, max_depth=5\n",
      "[112]\tvalidation_0-auc:0.948338\tvalidation_1-auc:0.717363\n",
      "[01:30:42] src/tree/updater_prune.cc:74: tree pruning end, 1 roots, 24 extra nodes, 0 pruned nodes, max_depth=5\n",
      "[113]\tvalidation_0-auc:0.949222\tvalidation_1-auc:0.717048\n",
      "[01:30:42] src/tree/updater_prune.cc:74: tree pruning end, 1 roots, 16 extra nodes, 0 pruned nodes, max_depth=5\n",
      "[114]\tvalidation_0-auc:0.949722\tvalidation_1-auc:0.717438\n",
      "[01:30:42] src/tree/updater_prune.cc:74: tree pruning end, 1 roots, 28 extra nodes, 0 pruned nodes, max_depth=5\n",
      "[115]\tvalidation_0-auc:0.950864\tvalidation_1-auc:0.7179\n",
      "[01:30:42] src/tree/updater_prune.cc:74: tree pruning end, 1 roots, 24 extra nodes, 0 pruned nodes, max_depth=5\n",
      "[116]\tvalidation_0-auc:0.951371\tvalidation_1-auc:0.717453\n",
      "[01:30:42] src/tree/updater_prune.cc:74: tree pruning end, 1 roots, 22 extra nodes, 0 pruned nodes, max_depth=5\n",
      "[117]\tvalidation_0-auc:0.952173\tvalidation_1-auc:0.716478\n",
      "[01:30:42] src/tree/updater_prune.cc:74: tree pruning end, 1 roots, 20 extra nodes, 0 pruned nodes, max_depth=5\n",
      "[118]\tvalidation_0-auc:0.952797\tvalidation_1-auc:0.716389\n",
      "[01:30:42] src/tree/updater_prune.cc:74: tree pruning end, 1 roots, 32 extra nodes, 0 pruned nodes, max_depth=5\n",
      "[119]\tvalidation_0-auc:0.954145\tvalidation_1-auc:0.716964\n",
      "[01:30:42] src/tree/updater_prune.cc:74: tree pruning end, 1 roots, 20 extra nodes, 0 pruned nodes, max_depth=5\n",
      "[120]\tvalidation_0-auc:0.9548\tvalidation_1-auc:0.716579\n",
      "[01:30:43] src/tree/updater_prune.cc:74: tree pruning end, 1 roots, 26 extra nodes, 0 pruned nodes, max_depth=5\n",
      "[121]\tvalidation_0-auc:0.955536\tvalidation_1-auc:0.716378\n",
      "[01:30:43] src/tree/updater_prune.cc:74: tree pruning end, 1 roots, 16 extra nodes, 0 pruned nodes, max_depth=5\n",
      "[122]\tvalidation_0-auc:0.955924\tvalidation_1-auc:0.715831\n",
      "[01:30:43] src/tree/updater_prune.cc:74: tree pruning end, 1 roots, 20 extra nodes, 0 pruned nodes, max_depth=5\n",
      "[123]\tvalidation_0-auc:0.956648\tvalidation_1-auc:0.715878\n",
      "[01:30:43] src/tree/updater_prune.cc:74: tree pruning end, 1 roots, 16 extra nodes, 0 pruned nodes, max_depth=5\n",
      "[124]\tvalidation_0-auc:0.957036\tvalidation_1-auc:0.715842\n",
      "[01:30:43] src/tree/updater_prune.cc:74: tree pruning end, 1 roots, 18 extra nodes, 0 pruned nodes, max_depth=5\n",
      "[125]\tvalidation_0-auc:0.957282\tvalidation_1-auc:0.715785\n",
      "[01:30:43] src/tree/updater_prune.cc:74: tree pruning end, 1 roots, 14 extra nodes, 0 pruned nodes, max_depth=5\n",
      "[126]\tvalidation_0-auc:0.957313\tvalidation_1-auc:0.716034\n",
      "[01:30:43] src/tree/updater_prune.cc:74: tree pruning end, 1 roots, 16 extra nodes, 0 pruned nodes, max_depth=5\n",
      "[127]\tvalidation_0-auc:0.957701\tvalidation_1-auc:0.716426\n",
      "[01:30:43] src/tree/updater_prune.cc:74: tree pruning end, 1 roots, 18 extra nodes, 0 pruned nodes, max_depth=5\n",
      "[128]\tvalidation_0-auc:0.958288\tvalidation_1-auc:0.716758\n",
      "[01:30:43] src/tree/updater_prune.cc:74: tree pruning end, 1 roots, 18 extra nodes, 0 pruned nodes, max_depth=5\n",
      "[129]\tvalidation_0-auc:0.958838\tvalidation_1-auc:0.717005\n",
      "[01:30:43] src/tree/updater_prune.cc:74: tree pruning end, 1 roots, 26 extra nodes, 0 pruned nodes, max_depth=5\n",
      "[130]\tvalidation_0-auc:0.959533\tvalidation_1-auc:0.716729\n",
      "[01:30:43] src/tree/updater_prune.cc:74: tree pruning end, 1 roots, 14 extra nodes, 0 pruned nodes, max_depth=5\n",
      "[131]\tvalidation_0-auc:0.959921\tvalidation_1-auc:0.716528\n",
      "[01:30:43] src/tree/updater_prune.cc:74: tree pruning end, 1 roots, 14 extra nodes, 0 pruned nodes, max_depth=5\n",
      "[132]\tvalidation_0-auc:0.960354\tvalidation_1-auc:0.715862\n",
      "[01:30:43] src/tree/updater_prune.cc:74: tree pruning end, 1 roots, 18 extra nodes, 0 pruned nodes, max_depth=5\n",
      "[133]\tvalidation_0-auc:0.960528\tvalidation_1-auc:0.715997\n",
      "[01:30:43] src/tree/updater_prune.cc:74: tree pruning end, 1 roots, 14 extra nodes, 0 pruned nodes, max_depth=5\n",
      "[134]\tvalidation_0-auc:0.960849\tvalidation_1-auc:0.715758\n",
      "[01:30:43] src/tree/updater_prune.cc:74: tree pruning end, 1 roots, 12 extra nodes, 0 pruned nodes, max_depth=5\n",
      "[135]\tvalidation_0-auc:0.961374\tvalidation_1-auc:0.715511\n",
      "[01:30:43] src/tree/updater_prune.cc:74: tree pruning end, 1 roots, 14 extra nodes, 0 pruned nodes, max_depth=5\n",
      "[136]\tvalidation_0-auc:0.961464\tvalidation_1-auc:0.715975\n",
      "[01:30:43] src/tree/updater_prune.cc:74: tree pruning end, 1 roots, 22 extra nodes, 0 pruned nodes, max_depth=5\n",
      "[137]\tvalidation_0-auc:0.962051\tvalidation_1-auc:0.716345\n",
      "[01:30:43] src/tree/updater_prune.cc:74: tree pruning end, 1 roots, 14 extra nodes, 0 pruned nodes, max_depth=5\n",
      "[138]\tvalidation_0-auc:0.962284\tvalidation_1-auc:0.716717\n",
      "[01:30:43] src/tree/updater_prune.cc:74: tree pruning end, 1 roots, 26 extra nodes, 0 pruned nodes, max_depth=5\n",
      "[139]\tvalidation_0-auc:0.962903\tvalidation_1-auc:0.716249\n",
      "[01:30:44] src/tree/updater_prune.cc:74: tree pruning end, 1 roots, 16 extra nodes, 0 pruned nodes, max_depth=5\n",
      "[140]\tvalidation_0-auc:0.963457\tvalidation_1-auc:0.716151\n",
      "[01:30:44] src/tree/updater_prune.cc:74: tree pruning end, 1 roots, 20 extra nodes, 0 pruned nodes, max_depth=5\n",
      "[141]\tvalidation_0-auc:0.963944\tvalidation_1-auc:0.715988\n",
      "[01:30:44] src/tree/updater_prune.cc:74: tree pruning end, 1 roots, 26 extra nodes, 0 pruned nodes, max_depth=5\n",
      "[142]\tvalidation_0-auc:0.964285\tvalidation_1-auc:0.715939\n",
      "[01:30:44] src/tree/updater_prune.cc:74: tree pruning end, 1 roots, 18 extra nodes, 0 pruned nodes, max_depth=5\n",
      "[143]\tvalidation_0-auc:0.964787\tvalidation_1-auc:0.715751\n",
      "[01:30:44] src/tree/updater_prune.cc:74: tree pruning end, 1 roots, 34 extra nodes, 0 pruned nodes, max_depth=5\n",
      "[144]\tvalidation_0-auc:0.965473\tvalidation_1-auc:0.716156\n",
      "[01:30:44] src/tree/updater_prune.cc:74: tree pruning end, 1 roots, 16 extra nodes, 0 pruned nodes, max_depth=5\n",
      "[145]\tvalidation_0-auc:0.965803\tvalidation_1-auc:0.716371\n"
     ]
    },
    {
     "name": "stdout",
     "output_type": "stream",
     "text": [
      "[01:30:44] src/tree/updater_prune.cc:74: tree pruning end, 1 roots, 26 extra nodes, 0 pruned nodes, max_depth=5\n",
      "[146]\tvalidation_0-auc:0.966651\tvalidation_1-auc:0.715851\n",
      "[01:30:44] src/tree/updater_prune.cc:74: tree pruning end, 1 roots, 20 extra nodes, 0 pruned nodes, max_depth=5\n",
      "[147]\tvalidation_0-auc:0.967311\tvalidation_1-auc:0.715517\n",
      "[01:30:44] src/tree/updater_prune.cc:74: tree pruning end, 1 roots, 26 extra nodes, 0 pruned nodes, max_depth=5\n",
      "[148]\tvalidation_0-auc:0.967843\tvalidation_1-auc:0.71564\n",
      "[01:30:44] src/tree/updater_prune.cc:74: tree pruning end, 1 roots, 18 extra nodes, 0 pruned nodes, max_depth=5\n",
      "[149]\tvalidation_0-auc:0.96834\tvalidation_1-auc:0.715071\n",
      "[01:30:44] src/tree/updater_prune.cc:74: tree pruning end, 1 roots, 34 extra nodes, 0 pruned nodes, max_depth=5\n",
      "[150]\tvalidation_0-auc:0.968851\tvalidation_1-auc:0.714791\n",
      "[01:30:44] src/tree/updater_prune.cc:74: tree pruning end, 1 roots, 22 extra nodes, 0 pruned nodes, max_depth=5\n",
      "[151]\tvalidation_0-auc:0.969106\tvalidation_1-auc:0.714475\n",
      "[01:30:44] src/tree/updater_prune.cc:74: tree pruning end, 1 roots, 18 extra nodes, 0 pruned nodes, max_depth=5\n",
      "[152]\tvalidation_0-auc:0.969278\tvalidation_1-auc:0.714705\n",
      "[01:30:44] src/tree/updater_prune.cc:74: tree pruning end, 1 roots, 14 extra nodes, 0 pruned nodes, max_depth=5\n",
      "[153]\tvalidation_0-auc:0.969637\tvalidation_1-auc:0.715021\n",
      "[01:30:44] src/tree/updater_prune.cc:74: tree pruning end, 1 roots, 32 extra nodes, 0 pruned nodes, max_depth=5\n",
      "[154]\tvalidation_0-auc:0.970266\tvalidation_1-auc:0.714655\n",
      "[01:30:44] src/tree/updater_prune.cc:74: tree pruning end, 1 roots, 24 extra nodes, 0 pruned nodes, max_depth=5\n",
      "[155]\tvalidation_0-auc:0.970731\tvalidation_1-auc:0.714016\n",
      "[01:30:44] src/tree/updater_prune.cc:74: tree pruning end, 1 roots, 20 extra nodes, 0 pruned nodes, max_depth=5\n",
      "[156]\tvalidation_0-auc:0.971119\tvalidation_1-auc:0.714486\n",
      "[01:30:44] src/tree/updater_prune.cc:74: tree pruning end, 1 roots, 22 extra nodes, 0 pruned nodes, max_depth=5\n",
      "[157]\tvalidation_0-auc:0.971286\tvalidation_1-auc:0.714412\n",
      "[01:30:45] src/tree/updater_prune.cc:74: tree pruning end, 1 roots, 16 extra nodes, 0 pruned nodes, max_depth=5\n",
      "[158]\tvalidation_0-auc:0.9716\tvalidation_1-auc:0.713544\n",
      "Stopping. Best iteration:\n",
      "[58]\tvalidation_0-auc:0.894006\tvalidation_1-auc:0.724952\n",
      "\n"
     ]
    },
    {
     "data": {
      "text/plain": [
       "XGBClassifier(base_score=0.5, booster='gbtree', colsample_bylevel=1,\n",
       "       colsample_bytree=0.5326780859210172, eta=0.05,\n",
       "       gamma=0.6499055536075732, learning_rate=0.1,\n",
       "       max_delta_step=9.67653592799797, max_depth=5,\n",
       "       min_child_weight=19.419063672362732, missing=None,\n",
       "       n_estimators=1000, n_jobs=1, nthread=4, objective='binary:logistic',\n",
       "       random_state=0, reg_alpha=0, reg_lambda=0.9730525337026057,\n",
       "       scale_pos_weight=1, seed=1000, silent=0,\n",
       "       subsample=0.9198065096810114)"
      ]
     },
     "execution_count": 13,
     "metadata": {},
     "output_type": "execute_result"
    }
   ],
   "source": [
    "#设置验证集合 verbose=False不打印过程\n",
    "clf.fit(X_train_tf, y_train,eval_set=[(X_train_tf, y_train), (X_valid_tf, y_valid)],\n",
    "        eval_metric='auc',early_stopping_rounds=100 ,verbose=True)"
   ]
  },
  {
   "cell_type": "code",
   "execution_count": 14,
   "metadata": {
    "ExecuteTime": {
     "end_time": "2020-05-03T06:30:50.833086Z",
     "start_time": "2020-05-03T06:30:49.637886Z"
    }
   },
   "outputs": [],
   "source": [
    "model = clf\n",
    "y_train_preds = model.predict(X_train_tf)\n",
    "y_valid_preds = model.predict(X_valid_tf)"
   ]
  },
  {
   "cell_type": "code",
   "execution_count": 15,
   "metadata": {
    "ExecuteTime": {
     "end_time": "2020-05-03T06:30:51.788690Z",
     "start_time": "2020-05-03T06:30:51.061113Z"
    }
   },
   "outputs": [
    {
     "name": "stdout",
     "output_type": "stream",
     "text": [
      "Accuracy : 0.6672753358549628\n"
     ]
    }
   ],
   "source": [
    "#获取验证集合结果\n",
    "evals_result = clf.evals_result()\n",
    "y_true, y_pred = np.array(y_test), clf.predict(X_test_tf)\n",
    "print(\"Accuracy : \" + str(metrics.accuracy_score(y_true, y_pred)))"
   ]
  },
  {
   "cell_type": "code",
   "execution_count": 16,
   "metadata": {
    "ExecuteTime": {
     "end_time": "2020-05-03T06:30:52.035482Z",
     "start_time": "2020-05-03T06:30:52.022083Z"
    }
   },
   "outputs": [
    {
     "data": {
      "text/plain": [
       "array([0.00453772, 0.00453772, 0.00453772, 0.00453772, 0.00510493,\n",
       "       0.00510493, 0.00510493, 0.00510493, 0.00510493, 0.00567215,\n",
       "       0.00567215, 0.00567215, 0.00623936, 0.00623936, 0.00623936,\n",
       "       0.00680658, 0.00680658, 0.00907544, 0.00907544, 0.00964266],\n",
       "      dtype=float32)"
      ]
     },
     "execution_count": 16,
     "metadata": {},
     "output_type": "execute_result"
    }
   ],
   "source": [
    "feature_nums = 20\n",
    "np.sort(clf.feature_importances_)[-feature_nums:]"
   ]
  },
  {
   "cell_type": "code",
   "execution_count": 17,
   "metadata": {
    "ExecuteTime": {
     "end_time": "2020-05-03T06:30:52.385894Z",
     "start_time": "2020-05-03T06:30:52.231270Z"
    }
   },
   "outputs": [
    {
     "data": {
      "image/png": "[encoded data removed]",
      "text/plain": [
       "<Figure size 432x288 with 1 Axes>"
      ]
     },
     "metadata": {
      "needs_background": "light"
     },
     "output_type": "display_data"
    }
   ],
   "source": [
    "# plot\n",
    "plt.bar(range(feature_nums), np.sort(clf.feature_importances_)[-feature_nums:])\n",
    "plt.show()"
   ]
  },
  {
   "cell_type": "code",
   "execution_count": 18,
   "metadata": {
    "ExecuteTime": {
     "end_time": "2020-05-03T06:30:53.545322Z",
     "start_time": "2020-05-03T06:30:52.583217Z"
    },
    "scrolled": true
   },
   "outputs": [
    {
     "data": {
      "image/png": "[encoded data removed]",
      "text/plain": [
       "<Figure size 1080x1080 with 1 Axes>"
      ]
     },
     "metadata": {
      "needs_background": "light"
     },
     "output_type": "display_data"
    }
   ],
   "source": [
    "fig,ax = plt.subplots(figsize=(15,15))\n",
    "plot_importance(clf,\n",
    "                height=0.5,\n",
    "                ax=ax,\n",
    "                max_num_features=64)\n",
    "plt.show()"
   ]
  },
  {
   "cell_type": "markdown",
   "metadata": {},
   "source": [
    "# Step 4. Calculate Performance Metrics"
   ]
  },
  {
   "cell_type": "markdown",
   "metadata": {},
   "source": [
    "<img src=\"perf_metrics.png\">"
   ]
  },
  {
   "cell_type": "code",
   "execution_count": 19,
   "metadata": {
    "ExecuteTime": {
     "end_time": "2020-05-03T06:30:57.523014Z",
     "start_time": "2020-05-03T06:30:57.511905Z"
    }
   },
   "outputs": [],
   "source": [
    "def calc_accuracy(y_actual, y_pred, thresh):\n",
    "    # this function calculates the accuracy with probability threshold at thresh\n",
    "    return (sum((y_pred > thresh) & (y_actual == 1))+sum((y_pred < thresh) & (y_actual == 0))) /len(y_actual)\n",
    "\n",
    "def calc_recall(y_actual, y_pred, thresh):\n",
    "    # calculates the recall\n",
    "    return sum((y_pred > thresh) & (y_actual == 1)) /sum(y_actual)\n",
    "\n",
    "def calc_precision(y_actual, y_pred, thresh):\n",
    "    # calculates the precision\n",
    "    return sum((y_pred > thresh) & (y_actual == 1)) /sum(y_pred > thresh)\n",
    "\n",
    "def calc_specificity(y_actual, y_pred, thresh):\n",
    "    # calculates specificity\n",
    "    return sum((y_pred < thresh) & (y_actual == 0)) /sum(y_actual ==0)\n",
    "\n",
    "def calc_prevalence(y_actual):\n",
    "    # calculates prevalence\n",
    "    return sum((y_actual == 1)) /len(y_actual)\n"
   ]
  },
  {
   "cell_type": "code",
   "execution_count": 20,
   "metadata": {
    "ExecuteTime": {
     "end_time": "2020-05-03T06:30:58.000175Z",
     "start_time": "2020-05-03T06:30:57.800957Z"
    },
    "scrolled": false
   },
   "outputs": [
    {
     "name": "stdout",
     "output_type": "stream",
     "text": [
      "Train AUC:0.804\n",
      "Valid AUC:0.667\n",
      "Train accuracy:0.804\n",
      "Valid accuracy:0.666\n",
      "Train recall:0.783\n",
      "Valid recall:0.668\n",
      "Train precision:0.817\n",
      "Valid precision:0.108\n",
      "Train specificity:0.825\n",
      "Valid specificity:0.666\n",
      "Train prevalence:0.500\n",
      "Valid prevalence:0.057\n"
     ]
    },
    {
     "data": {
      "image/png": "[encoded data removed]",
      "text/plain": [
       "<Figure size 432x288 with 1 Axes>"
      ]
     },
     "metadata": {
      "needs_background": "light"
     },
     "output_type": "display_data"
    }
   ],
   "source": [
    "from sklearn.metrics import roc_curve\n",
    "from sklearn.metrics import roc_auc_score\n",
    "\n",
    "fpr_train, tpr_train, thresholds_train = roc_curve(y_train, y_train_preds)\n",
    "fpr_valid, tpr_valid, thresholds_valid = roc_curve(y_valid, y_valid_preds)\n",
    "\n",
    "\n",
    "thresh = 0.5\n",
    "\n",
    "auc_train = roc_auc_score(y_train, y_train_preds)\n",
    "auc_valid = roc_auc_score(y_valid, y_valid_preds)\n",
    "\n",
    "print('Train AUC:%.3f'%auc_train)\n",
    "print('Valid AUC:%.3f'%auc_valid)\n",
    "\n",
    "print('Train accuracy:%.3f'%calc_accuracy(y_train, y_train_preds, thresh))\n",
    "print('Valid accuracy:%.3f'%calc_accuracy(y_valid, y_valid_preds, thresh))\n",
    "\n",
    "\n",
    "print('Train recall:%.3f'%calc_recall(y_train, y_train_preds, thresh))\n",
    "print('Valid recall:%.3f'%calc_recall(y_valid, y_valid_preds, thresh))\n",
    "\n",
    "print('Train precision:%.3f'%calc_precision(y_train, y_train_preds, thresh))\n",
    "print('Valid precision:%.3f'%calc_precision(y_valid, y_valid_preds, thresh))\n",
    "\n",
    "print('Train specificity:%.3f'%calc_specificity(y_train, y_train_preds, thresh))\n",
    "print('Valid specificity:%.3f'%calc_specificity(y_valid, y_valid_preds, thresh))\n",
    "\n",
    "print('Train prevalence:%.3f'%calc_prevalence(y_train))\n",
    "print('Valid prevalence:%.3f'%calc_prevalence(y_valid))\n",
    "\n",
    "\n",
    "plt.plot(fpr_train, tpr_train,'r-', label = 'Train AUC: %.2f'%auc_train)\n",
    "plt.plot(fpr_valid, tpr_valid,'b-',label = 'Valid AUC: %.2f'%auc_valid)\n",
    "plt.plot([0,1],[0,1],'-k')\n",
    "plt.xlabel('False Positive Rate')\n",
    "plt.ylabel('True Positive Rate')\n",
    "plt.legend()\n",
    "plt.show()"
   ]
  },
  {
   "cell_type": "code",
   "execution_count": 21,
   "metadata": {
    "ExecuteTime": {
     "end_time": "2020-05-03T06:31:01.928044Z",
     "start_time": "2020-05-03T06:31:01.586699Z"
    }
   },
   "outputs": [
    {
     "name": "stdout",
     "output_type": "stream",
     "text": [
      "Valid dataset: \n"
     ]
    },
    {
     "data": {
      "image/png": "[encoded data removed]",
      "text/plain": [
       "<Figure size 396x288 with 2 Axes>"
      ]
     },
     "metadata": {
      "needs_background": "light"
     },
     "output_type": "display_data"
    }
   ],
   "source": [
    "from sklearn.metrics import confusion_matrix\n",
    "import seaborn as sns\n",
    "\n",
    "print(\"Valid dataset: \")\n",
    "cm = confusion_matrix(y_valid, y_valid_preds)\n",
    "cm_df = pd.DataFrame(cm)\n",
    "\n",
    "plt.figure(figsize=(5.5,4))\n",
    "sns.heatmap(cm_df, annot=True)\n",
    "plt.title('Valid dataset \\nAccuracy:{0:.3f}'.format(metrics.accuracy_score(y_valid, y_valid_preds)))\n",
    "plt.ylabel('True label')\n",
    "plt.xlabel('Predicted label')\n",
    "plt.show()"
   ]
  },
  {
   "cell_type": "code",
   "execution_count": 22,
   "metadata": {
    "ExecuteTime": {
     "end_time": "2020-05-03T06:31:02.286647Z",
     "start_time": "2020-05-03T06:31:02.155539Z"
    }
   },
   "outputs": [
    {
     "name": "stdout",
     "output_type": "stream",
     "text": [
      "Trainning dataset: \n"
     ]
    },
    {
     "data": {
      "image/png": "[encoded data removed]",
      "text/plain": [
       "<Figure size 396x288 with 2 Axes>"
      ]
     },
     "metadata": {
      "needs_background": "light"
     },
     "output_type": "display_data"
    }
   ],
   "source": [
    "print(\"Trainning dataset: \")\n",
    "cm = confusion_matrix(y_train, y_train_preds)\n",
    "cm_df = pd.DataFrame(cm)\n",
    "\n",
    "plt.figure(figsize=(5.5,4))\n",
    "sns.heatmap(cm_df, annot=True)\n",
    "plt.title('Valid dataset \\nAccuracy:{0:.3f}'.format(metrics.accuracy_score(y_train, y_train_preds)))\n",
    "plt.ylabel('True label')\n",
    "plt.xlabel('Predicted label')\n",
    "plt.show()"
   ]
  },
  {
   "cell_type": "markdown",
   "metadata": {},
   "source": [
    "### Tip C: plot a learning curve\n",
    "\n",
    "Source: http://scikit-learn.org/stable/auto_examples/model_selection/plot_learning_curve.html"
   ]
  },
  {
   "cell_type": "code",
   "execution_count": 23,
   "metadata": {
    "ExecuteTime": {
     "end_time": "2020-05-03T06:31:09.396906Z",
     "start_time": "2020-05-03T06:31:09.283195Z"
    }
   },
   "outputs": [],
   "source": [
    "import numpy as np\n",
    "from sklearn.model_selection import learning_curve\n",
    "from sklearn.model_selection import ShuffleSplit\n",
    "\n",
    "\n",
    "def plot_learning_curve(estimator, title, X, y, ylim=None, cv=None,\n",
    "                        n_jobs=1, train_sizes=np.linspace(.1, 1.0, 5)):\n",
    "    \"\"\"\n",
    "    Generate a simple plot of the test and training learning curve.\n",
    "\n",
    "    Parameters\n",
    "    ----------\n",
    "    estimator : object type that implements the \"fit\" and \"predict\" methods\n",
    "        An object of that type which is cloned for each validation.\n",
    "\n",
    "    title : string\n",
    "        Title for the chart.\n",
    "\n",
    "    X : array-like, shape (n_samples, n_features)\n",
    "        Training vector, where n_samples is the number of samples and\n",
    "        n_features is the number of features.\n",
    "\n",
    "    y : array-like, shape (n_samples) or (n_samples, n_features), optional\n",
    "        Target relative to X for classification or regression;\n",
    "        None for unsupervised learning.\n",
    "\n",
    "    ylim : tuple, shape (ymin, ymax), optional\n",
    "        Defines minimum and maximum yvalues plotted.\n",
    "\n",
    "    cv : int, cross-validation generator or an iterable, optional\n",
    "        Determines the cross-validation splitting strategy.\n",
    "        Possible inputs for cv are:\n",
    "          - None, to use the default 3-fold cross-validation,\n",
    "          - integer, to specify the number of folds.\n",
    "          - An object to be used as a cross-validation generator.\n",
    "          - An iterable yielding train/test splits.\n",
    "\n",
    "        For integer/None inputs, if ``y`` is binary or multiclass,\n",
    "        :class:`StratifiedKFold` used. If the estimator is not a classifier\n",
    "        or if ``y`` is neither binary nor multiclass, :class:`KFold` is used.\n",
    "\n",
    "        Refer :ref:`User Guide <cross_validation>` for the various\n",
    "        cross-validators that can be used here.\n",
    "\n",
    "    n_jobs : integer, optional\n",
    "        Number of jobs to run in parallel (default 1).\n",
    "    \"\"\"\n",
    "    plt.figure()\n",
    "    plt.title(title)\n",
    "    if ylim is not None:\n",
    "        plt.ylim(*ylim)\n",
    "    plt.xlabel(\"Training examples\")\n",
    "    plt.ylabel(\"AUC\")\n",
    "    train_sizes, train_scores, test_scores = learning_curve(\n",
    "        estimator, X, y, cv=cv, n_jobs=n_jobs, train_sizes=train_sizes, scoring = 'roc_auc')\n",
    "\n",
    "    train_scores_mean = np.mean(train_scores, axis=1)\n",
    "    train_scores_std = np.std(train_scores, axis=1)\n",
    "    test_scores_mean = np.mean(test_scores, axis=1)\n",
    "    test_scores_std = np.std(test_scores, axis=1)\n",
    "    plt.grid()\n",
    "\n",
    "    plt.fill_between(train_sizes, train_scores_mean - train_scores_std,\n",
    "                     train_scores_mean + train_scores_std, alpha=0.1,\n",
    "                     color=\"r\")\n",
    "    plt.fill_between(train_sizes, test_scores_mean - test_scores_std,\n",
    "                     test_scores_mean + test_scores_std, alpha=0.1, color=\"b\")\n",
    "    plt.plot(train_sizes, train_scores_mean, 'o-', color=\"r\",\n",
    "             label=\"Training score\")\n",
    "    plt.plot(train_sizes, test_scores_mean, 'o-', color=\"b\",\n",
    "             label=\"Cross-validation score\")\n",
    "\n",
    "    plt.legend(loc=\"best\")\n",
    "    return plt"
   ]
  },
  {
   "cell_type": "code",
   "execution_count": 24,
   "metadata": {
    "ExecuteTime": {
     "end_time": "2020-05-03T06:35:55.614477Z",
     "start_time": "2020-05-03T06:31:10.538378Z"
    }
   },
   "outputs": [
    {
     "data": {
      "image/png": "[encoded data removed]",
      "text/plain": [
       "<Figure size 432x288 with 1 Axes>"
      ]
     },
     "metadata": {
      "needs_background": "light"
     },
     "output_type": "display_data"
    }
   ],
   "source": [
    "title = \"Learning Curves (Xgboost)\"\n",
    "# Cross validation with 5 iterations to get smoother mean test and train\n",
    "# score curves, each time with 20% data randomly selected as a validation set.\n",
    "cv = ShuffleSplit(n_splits=5, test_size=0.2, random_state=42)\n",
    "plot_learning_curve(clf, title, X_train_tf, y_train, ylim=(0.2, 1.01), cv=cv, n_jobs=4)\n",
    "\n",
    "plt.show()"
   ]
  },
  {
   "cell_type": "code",
   "execution_count": null,
   "metadata": {},
   "outputs": [],
   "source": []
  }
 ],
 "metadata": {
  "kernelspec": {
   "display_name": "Python 3",
   "language": "python",
   "name": "python3"
  },
  "language_info": {
   "codemirror_mode": {
    "name": "ipython",
    "version": 3
   },
   "file_extension": ".py",
   "mimetype": "text/x-python",
   "name": "python",
   "nbconvert_exporter": "python",
   "pygments_lexer": "ipython3",
   "version": "3.6.8"
  },
  "toc": {
   "base_numbering": 1,
   "nav_menu": {},
   "number_sections": true,
   "sideBar": true,
   "skip_h1_title": false,
   "title_cell": "Table of Contents",
   "title_sidebar": "Contents",
   "toc_cell": false,
   "toc_position": {},
   "toc_section_display": true,
   "toc_window_display": false
  },
  "varInspector": {
   "cols": {
    "lenName": 16,
    "lenType": 16,
    "lenVar": 40
   },
   "kernels_config": {
    "python": {
     "delete_cmd_postfix": "",
     "delete_cmd_prefix": "del ",
     "library": "var_list.py",
     "varRefreshCmd": "print(var_dic_list())"
    },
    "r": {
     "delete_cmd_postfix": ") ",
     "delete_cmd_prefix": "rm(",
     "library": "var_list.r",
     "varRefreshCmd": "cat(var_dic_list()) "
    }
   },
   "types_to_exclude": [
    "module",
    "function",
    "builtin_function_or_method",
    "instance",
    "_Feature"
   ],
   "window_display": false
  }
 },
 "nbformat": 4,
 "nbformat_minor": 2
}
